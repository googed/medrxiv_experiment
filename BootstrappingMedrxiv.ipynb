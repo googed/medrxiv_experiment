{
 "cells": [
  {
   "cell_type": "code",
   "execution_count": 1,
   "metadata": {},
   "outputs": [],
   "source": [
    "import numpy as np\n",
    "import matplotlib\n",
    "import matplotlib.pyplot as plt\n",
    "import numpy as np\n",
    "import seaborn as sns\n",
    "from tqdm import tqdm\n",
    "from itertools import product\n",
    "%matplotlib inline"
   ]
  },
  {
   "cell_type": "code",
   "execution_count": 2,
   "metadata": {},
   "outputs": [],
   "source": [
    "sns.set_style('dark')\n",
    "sns.set(font_scale=1.3)\n",
    "# need to run this twice...\n",
    "sns.set_style('dark')\n",
    "sns.set(font_scale=1.3)"
   ]
  },
  {
   "cell_type": "code",
   "execution_count": 3,
   "metadata": {},
   "outputs": [],
   "source": [
    "# Here is the raw data\n",
    "stanford_known_positives = 37\n",
    "stanford_known_negatives = 30\n",
    "\n",
    "stanford_tested_positives = 25\n",
    "stanford_tested_negatives = 30\n",
    "\n",
    "\n",
    "manufacturer_known_positives_igg = 75\n",
    "manufacturer_known_positives_igm = 85\n",
    "manufacturer_known_positives = 75+85\n",
    "manufacturer_known_negatives = 371\n",
    "\n",
    "manufacturer_tested_positives_igg = 75\n",
    "manufacturer_tested_positives_igm = 78\n",
    "manufacturer_tested_positives = 75+78\n",
    "manufacturer_tested_negatives = 369\n",
    "\n",
    "manufacturer_tested_positives_cons = 78\n",
    "manufacturer_known_positives_cons = 85"
   ]
  },
  {
   "cell_type": "code",
   "execution_count": 4,
   "metadata": {},
   "outputs": [],
   "source": [
    "def get_data(scenario):\n",
    "    '''\n",
    "    Grab the data corresponding to scenario 1, 2, or 3 as described in the paper\n",
    "    '''\n",
    "    if scenario == 1:\n",
    "        tested_pos = manufacturer_tested_positives_cons\n",
    "        known_pos = manufacturer_known_positives_cons\n",
    "        r_hat = tested_pos / known_pos\n",
    "\n",
    "        tested_neg = manufacturer_tested_negatives\n",
    "        known_neg = manufacturer_known_negatives\n",
    "        s_hat = tested_neg / known_neg\n",
    "\n",
    "    elif scenario == 2:\n",
    "        tested_pos = stanford_tested_positives\n",
    "        known_pos = stanford_known_positives\n",
    "        r_hat = tested_pos / known_pos\n",
    "\n",
    "        tested_neg = stanford_tested_negatives\n",
    "        known_neg = stanford_known_negatives\n",
    "        s_hat = tested_neg / known_neg\n",
    "\n",
    "    elif scenario == 3:\n",
    "        tested_pos = stanford_tested_positives + manufacturer_tested_positives_cons\n",
    "        known_pos = stanford_known_positives + manufacturer_known_positives_cons\n",
    "        r_hat = tested_pos / known_pos\n",
    "\n",
    "        tested_neg = stanford_tested_negatives + manufacturer_tested_negatives\n",
    "        known_neg = stanford_known_negatives + manufacturer_known_negatives\n",
    "        s_hat = tested_neg / known_neg\n",
    "    return tested_pos, known_pos, r_hat, tested_neg, known_neg, s_hat\n"
   ]
  },
  {
   "cell_type": "code",
   "execution_count": 5,
   "metadata": {},
   "outputs": [],
   "source": [
    "def bootstrap_specificity(tested_neg, known_neg, n_trials=500):\n",
    "    '''\n",
    "    Bootstrap the specificity estimate\n",
    "    '''\n",
    "    test_negs = np.zeros(known_neg)\n",
    "    test_negs[:tested_neg] = 1.\n",
    "    specificities = []\n",
    "    for b in range(n_trials):\n",
    "        p = np.mean(np.random.choice(test_negs, size=known_neg))\n",
    "        specificities.append(p)\n",
    "    return specificities\n",
    "\n",
    "\n",
    "def bootstrap_sensitivity(tested_pos, known_pos, n_trials=500):\n",
    "    '''\n",
    "    Bootstrap the sensitivity estimate\n",
    "    '''\n",
    "    test_pos = np.zeros(known_pos)\n",
    "    test_pos[:tested_pos] = 1.\n",
    "    sensitivities = []\n",
    "    for b in range(n_trials):\n",
    "        p = np.mean(np.random.choice(test_pos, size=known_pos))\n",
    "        sensitivities.append(p)\n",
    "    return sensitivities"
   ]
  },
  {
   "cell_type": "code",
   "execution_count": 13,
   "metadata": {},
   "outputs": [
    {
     "name": "stderr",
     "output_type": "stream",
     "text": [
      "100%|██████████| 50000/50000 [01:09<00:00, 717.37it/s]\n"
     ]
    },
    {
     "name": "stdout",
     "output_type": "stream",
     "text": [
      "Estimated Positive Rate: 1.06\n",
      "95% CI: (0.0354, 1.88)\n"
     ]
    },
    {
     "data": {
      "image/png": "[encoded data removed]",
      "text/plain": [
       "<Figure size 432x288 with 1 Axes>"
      ]
     },
     "metadata": {},
     "output_type": "display_data"
    }
   ],
   "source": [
    "# Pick scenario 1, 2, or 3 and grab the corresponding data\n",
    "scenario = 1\n",
    "tested_pos, known_pos, r_hat, tested_neg, known_neg, s_hat = get_data(scenario)\n",
    "\n",
    "\n",
    "sample_size = 3330\n",
    "sample_tested_pos = 50\n",
    "# Generate positive samples to bootstrap\n",
    "obs = np.zeros(sample_size)\n",
    "obs[:sample_tested_pos] = 1.\n",
    "\n",
    "\n",
    "# Lets generate lots of bootstrap samples of the specificity and sensitivity\n",
    "n_trials_spec_sens = 10000\n",
    "specificities = bootstrap_specificity(tested_neg, known_neg, n_trials=n_trials_spec_sens)\n",
    "sensitivities = bootstrap_sensitivity(tested_pos, known_pos, n_trials=n_trials_spec_sens)\n",
    "\n",
    "# We will generate `n_trials` bootstrap samples of the observed positive rate\n",
    "n_trials = 50000\n",
    "\n",
    "true_rates = []\n",
    "for b in tqdm(range(n_trials)):\n",
    "    # bootstrap observed data\n",
    "    b_sample = np.random.choice(obs, size = len(obs))\n",
    "    # compute the corresponding `q` as specified in the paper\n",
    "    q_hat = np.mean(b_sample)\n",
    "\n",
    "    # get a random sample of the bootstrapped sensitivities and specificities\n",
    "    num_random_specs_sens = 1\n",
    "    sample_sens = np.random.choice(sensitivities, size=num_random_specs_sens, replace=False)\n",
    "    sample_specs = np.random.choice(specificities, size=num_random_specs_sens, replace=False)\n",
    "    # for all combinations of the random samples, compute the bootstrap estimate of TPR\n",
    "    for r_hat, s_hat in product(sample_sens, sample_specs):\n",
    "        # formula for TPR comes from page 2 of Statistical Appendix\n",
    "        # https://www.medrxiv.org/content/medrxiv/suppl/2020/04/17/2020.04.14.20062463.DC1/2020.04.14.20062463-1.pdf\n",
    "        # see last paragraph of page 2 for note about when q_hat + s_hat - 1 <= 0.\n",
    "        num = max(q_hat + s_hat - 1, 0.)\n",
    "        true_rate = num / (r_hat + s_hat - 1)\n",
    "        true_rates.append(true_rate)\n",
    "true_rates = np.asarray(true_rates)*100\n",
    "\n",
    "# Plot the results and compute the confidence interval\n",
    "fig, ax = plt.subplots()\n",
    "sns.distplot(np.asarray(true_rates), ax=ax, hist=True)\n",
    "ax.set(xlabel=\"Bootstrapped Positive Rate\")\n",
    "print(f\"Estimated Positive Rate: {np.mean(true_rates):.3}\")\n",
    "lower, upper = np.quantile(true_rates, [0.025, 0.975])\n",
    "print(f\"95% CI: ({lower:.3}, {upper:.3})\")"
   ]
  },
  {
   "cell_type": "code",
   "execution_count": null,
   "metadata": {},
   "outputs": [],
   "source": []
  }
 ],
 "metadata": {
  "kernelspec": {
   "display_name": "Python 3",
   "language": "python",
   "name": "python3"
  },
  "language_info": {
   "codemirror_mode": {
    "name": "ipython",
    "version": 3
   },
   "file_extension": ".py",
   "mimetype": "text/x-python",
   "name": "python",
   "nbconvert_exporter": "python",
   "pygments_lexer": "ipython3",
   "version": "3.7.6"
  },
  "name": "BootstrappingMedrxiv.ipynb"
 },
 "nbformat": 4,
 "nbformat_minor": 4
}
